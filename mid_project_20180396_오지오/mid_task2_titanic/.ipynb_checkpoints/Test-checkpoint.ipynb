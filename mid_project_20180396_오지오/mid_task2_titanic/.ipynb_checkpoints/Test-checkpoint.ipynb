{
 "cells": [
  {
   "cell_type": "code",
   "execution_count": 1,
   "metadata": {},
   "outputs": [],
   "source": [
    "import pandas as pd\n",
    "import numpy as np\n",
    "import math\n",
    "import matplotlib.pyplot as plt\n",
    "from App.logistic_regressor import LogisticRegressor\n"
   ]
  },
  {
   "cell_type": "code",
   "execution_count": 2,
   "metadata": {},
   "outputs": [],
   "source": [
    "\n",
    "def weak_ppl(age):    \n",
    "    if age<=16:\n",
    "        return 0\n",
    "    elif age<=64:\n",
    "        return 1\n",
    "    else:\n",
    "        return 2"
   ]
  },
  {
   "cell_type": "code",
   "execution_count": 3,
   "metadata": {},
   "outputs": [],
   "source": [
    "def age_missing_replace(means, data_frame, Pclass_list):\n",
    "    for pclass in Pclass_list:\n",
    "        temp = data_frame['Pclass'] == pclass\n",
    "        data_frame.loc[temp, 'Age'] = data_frame.loc[temp, 'Age'].fillna(means[pclass]) \n"
   ]
  },
  {
   "cell_type": "code",
   "execution_count": 4,
   "metadata": {},
   "outputs": [],
   "source": [
    "def assignDeckValue(CabinCode):\n",
    "    if pd.isnull(CabinCode):\n",
    "        category = 'Unknown'\n",
    "    else:\n",
    "        category = CabinCode[0]\n",
    "    return category\n",
    "  \n"
   ]
  },
  {
   "cell_type": "code",
   "execution_count": 5,
   "metadata": {},
   "outputs": [],
   "source": [
    "def getData():\n",
    "    #load and preprocess\n",
    "    train=pd.read_csv('./Data/titanic_train.csv',index_col=0)\n",
    "    test=pd.read_csv('./Data/test.csv',index_col=0)\n",
    "\n",
    "    \n",
    "    \n",
    "    train.drop(['Ticket', 'Cabin'],axis = 1, inplace =True)\n",
    "    test.drop(['Ticket', 'Cabin'],axis = 1, inplace =True)\n",
    "\n",
    "    train['Family'] = train['SibSp']+train['Parch']\n",
    "    test['Family'] = test['SibSp']+test['Parch'] \n",
    "    test.drop(['Parch', 'SibSp'],axis =1, inplace=True)\n",
    "    train.drop(['Parch', 'SibSp'],axis =1, inplace=True)\n",
    "\n",
    "\n",
    "    train['Title'] = train.Name.str.extract(' ([A-Za-z]+)\\.', expand=False)\n",
    "    test['Title'] = test.Name.str.extract(' ([A-Za-z]+)\\.', expand=False)\n",
    "    train['Title'] = train['Title'].replace(['Dr', 'Rev', 'Col', 'Major', 'Countess', 'Sir', 'Jonkheer', 'Lady', 'Capt', 'Don','Dona'], 'Others')\n",
    "    train['Title'] = train['Title'].replace('Ms', 'Miss')\n",
    "    train['Title'] = train['Title'].replace('Mme', 'Mrs')\n",
    "    train['Title'] = train['Title'].replace('Mlle', 'Miss')\n",
    "    test['Title'] = test['Title'].replace(['Dr', 'Rev', 'Col', 'Major', 'Countess', 'Sir', 'Jonkheer', 'Lady', 'Capt', 'Don','Dona'], 'Others')\n",
    "    test['Title'] = test['Title'].replace('Ms', 'Miss')\n",
    "    test['Title'] = test['Title'].replace('Mme', 'Mrs')\n",
    "    test['Title'] = test['Title'].replace('Mlle', 'Miss')\n",
    "    \n",
    "\n",
    "\n",
    "    test.drop(['Name'],axis=1, inplace=True)\n",
    "    train.drop(['Name'],axis=1, inplace=True)\n",
    "    \n",
    "    Pclass_means = train.groupby('Pclass')['Age'].mean()\n",
    "    Pclass_list = [1,2,3]\n",
    "\n",
    "    age_missing_replace(Pclass_means,train,Pclass_list)\n",
    "    age_missing_replace(Pclass_means,test,Pclass_list)\n",
    "    train['Age'] = train['Age'].apply(weak_ppl)\n",
    "    test['Age'] = test['Age'].apply(weak_ppl)\n",
    "        \n",
    "    train.Embarked.fillna('S', inplace=True)\n",
    "    test.Embarked.fillna('S',inplace = True)\n",
    "\n",
    "   \n",
    "    \n",
    "    train.Fare.fillna(13.314,inplace=True)\n",
    "    test.Fare.fillna(13.314,inplace=True)\n",
    "    \n",
    "\n",
    "    dummies_train= []\n",
    "    dummies_test = []\n",
    "    \n",
    "    cols = ['Pclass', 'Embarked','Sex','Age','Title']\n",
    "    for col in cols:\n",
    "        dummies_train.append(pd.get_dummies(train[col]))\n",
    "        dummies_test.append(pd.get_dummies(test[col]))\n",
    "    dummies_training = pd.concat(dummies_train, axis=1)\n",
    "    dummies_testing = pd.concat(dummies_test,axis=1)\n",
    "    train = pd.concat((train,dummies_training), axis=1)\n",
    "    test = pd.concat((test,dummies_testing), axis=1)\n",
    "    train.drop(cols, axis=1, inplace=True)\n",
    "    test.drop(cols,axis=1, inplace=True)\n",
    "    \n",
    "    train_y = train.Survived.copy().to_numpy()\n",
    "    test_y = None\n",
    "    train.head()\n",
    "    train_X = train.drop(['Survived'],axis=1).to_numpy()\n",
    "    test_X = test.to_numpy()\n",
    "    test_X =np.insert(test_X, 0, 1, axis=1)\n",
    "    train_X=np.insert(train_X, 0, 1, axis=1)\n",
    "\n",
    "    \n",
    "    #TODO \n",
    "    \n",
    "    return train_X,train_y,test_X,test_y"
   ]
  },
  {
   "cell_type": "code",
   "execution_count": 6,
   "metadata": {},
   "outputs": [],
   "source": [
    "\n",
    "def accuracy(true_y,pred_y):\n",
    "    pred_y[pred_y<0.5]=0\n",
    "    pred_y[pred_y>=0.5]=1\n",
    "    accuracy=np.sum(true_y==pred_y)/len(true_y)*100\n",
    "    print('Accuracy', accuracy,\"%\" )\n",
    "    f = open('./result/test_Accuracy.txt', 'w')\n",
    "    f.write(str(accuracy))\n",
    "    f.close()"
   ]
  },
  {
   "cell_type": "code",
   "execution_count": null,
   "metadata": {},
   "outputs": [],
   "source": []
  },
  {
   "cell_type": "code",
   "execution_count": 7,
   "metadata": {},
   "outputs": [],
   "source": [
    "if __name__ == \"__main__\":\n",
    "\n",
    "    train_X, train_y, test_X, test_y = getData()\n",
    "    # Model\n",
    "    model = LogisticRegressor()\n",
    "    lr= 0.01\n",
    "    #TODO #learning rate\n",
    "    epoch= 2000000\n",
    "    #TODO #epoch number\n",
    "    # Training\n",
    "    model.fit(train_X, train_y,lr,epoch)\n",
    "\n",
    "    # Prediction\n",
    "    pred_y = model.predict(test_X)\n",
    "    test = pd.read_csv('./Data/test.csv')\n",
    "    pred_y= pred_y.flatten()\n",
    "    pred_y = pred_y>=0.5\n",
    "    pred_y = pred_y.astype(int)\n",
    "    submission = pd.DataFrame({'PassengerId':test['PassengerId'],'Survived':pred_y})\n",
    "    filename = 'Titanic Predictions 2.csv'\n",
    "\n",
    "    submission.to_csv(filename,index=False)"
   ]
  },
  {
   "cell_type": "code",
   "execution_count": null,
   "metadata": {},
   "outputs": [],
   "source": []
  }
 ],
 "metadata": {
  "kernelspec": {
   "display_name": "Python 3",
   "language": "python",
   "name": "python3"
  },
  "language_info": {
   "codemirror_mode": {
    "name": "ipython",
    "version": 3
   },
   "file_extension": ".py",
   "mimetype": "text/x-python",
   "name": "python",
   "nbconvert_exporter": "python",
   "pygments_lexer": "ipython3",
   "version": "3.7.4"
  }
 },
 "nbformat": 4,
 "nbformat_minor": 2
}
