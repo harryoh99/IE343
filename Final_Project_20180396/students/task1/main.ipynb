{
 "cells": [
  {
   "cell_type": "code",
   "execution_count": 15,
   "metadata": {
    "tags": []
   },
   "outputs": [
    {
     "output_type": "stream",
     "name": "stdout",
     "text": "11\n"
    },
    {
     "output_type": "error",
     "ename": "TypeError",
     "evalue": "'int' object does not support item assignment",
     "traceback": [
      "\u001b[0;31m---------------------------------------------------------------------------\u001b[0m",
      "\u001b[0;31mTypeError\u001b[0m                                 Traceback (most recent call last)",
      "\u001b[0;32m<ipython-input-15-cedf316f381d>\u001b[0m in \u001b[0;36m<module>\u001b[0;34m\u001b[0m\n\u001b[1;32m     63\u001b[0m     \u001b[0;31m#print(pred_y.shape)\u001b[0m\u001b[0;34m\u001b[0m\u001b[0;34m\u001b[0m\u001b[0;34m\u001b[0m\u001b[0m\n\u001b[1;32m     64\u001b[0m     \u001b[0;31m# Evaluating\u001b[0m\u001b[0;34m\u001b[0m\u001b[0;34m\u001b[0m\u001b[0;34m\u001b[0m\u001b[0m\n\u001b[0;32m---> 65\u001b[0;31m     \u001b[0maccuracy\u001b[0m\u001b[0;34m(\u001b[0m\u001b[0mtest_y\u001b[0m\u001b[0;34m,\u001b[0m \u001b[0mpred_y\u001b[0m\u001b[0;34m)\u001b[0m\u001b[0;34m\u001b[0m\u001b[0;34m\u001b[0m\u001b[0m\n\u001b[0m",
      "\u001b[0;32m<ipython-input-15-cedf316f381d>\u001b[0m in \u001b[0;36maccuracy\u001b[0;34m(true_y, pred_y)\u001b[0m\n\u001b[1;32m     36\u001b[0m \u001b[0;34m\u001b[0m\u001b[0m\n\u001b[1;32m     37\u001b[0m \u001b[0;32mdef\u001b[0m \u001b[0maccuracy\u001b[0m\u001b[0;34m(\u001b[0m\u001b[0mtrue_y\u001b[0m\u001b[0;34m,\u001b[0m\u001b[0mpred_y\u001b[0m\u001b[0;34m)\u001b[0m\u001b[0;34m:\u001b[0m\u001b[0;34m\u001b[0m\u001b[0;34m\u001b[0m\u001b[0m\n\u001b[0;32m---> 38\u001b[0;31m     \u001b[0mpred_y\u001b[0m\u001b[0;34m[\u001b[0m\u001b[0mpred_y\u001b[0m\u001b[0;34m<\u001b[0m\u001b[0;36m0.5\u001b[0m\u001b[0;34m]\u001b[0m\u001b[0;34m=\u001b[0m\u001b[0;36m0\u001b[0m\u001b[0;34m\u001b[0m\u001b[0;34m\u001b[0m\u001b[0m\n\u001b[0m\u001b[1;32m     39\u001b[0m     \u001b[0mpred_y\u001b[0m\u001b[0;34m[\u001b[0m\u001b[0mpred_y\u001b[0m\u001b[0;34m>=\u001b[0m\u001b[0;36m0.5\u001b[0m\u001b[0;34m]\u001b[0m\u001b[0;34m=\u001b[0m\u001b[0;36m1\u001b[0m\u001b[0;34m\u001b[0m\u001b[0;34m\u001b[0m\u001b[0m\n\u001b[1;32m     40\u001b[0m     \u001b[0maccuracy\u001b[0m\u001b[0;34m=\u001b[0m\u001b[0mnp\u001b[0m\u001b[0;34m.\u001b[0m\u001b[0msum\u001b[0m\u001b[0;34m(\u001b[0m\u001b[0mtrue_y\u001b[0m\u001b[0;34m==\u001b[0m\u001b[0mpred_y\u001b[0m\u001b[0;34m)\u001b[0m\u001b[0;34m/\u001b[0m\u001b[0mlen\u001b[0m\u001b[0;34m(\u001b[0m\u001b[0mtrue_y\u001b[0m\u001b[0;34m)\u001b[0m\u001b[0;34m*\u001b[0m\u001b[0;36m100\u001b[0m\u001b[0;34m\u001b[0m\u001b[0;34m\u001b[0m\u001b[0m\n",
      "\u001b[0;31mTypeError\u001b[0m: 'int' object does not support item assignment"
     ]
    }
   ],
   "source": [
    "import csv\n",
    "import pandas as pd\n",
    "import numpy as np\n",
    "import matplotlib.pyplot as plt\n",
    "import math\n",
    "from App.logistic_regressor import LogisticRegressor\n",
    "\n",
    "\n",
    "\n",
    "def getData():\n",
    "    train=pd.read_csv('./Data/titanic_train.csv',index_col=0)\n",
    "    test=pd.read_csv('./Data/titanic_test.csv',index_col=0)\n",
    "    \n",
    "    train=train.fillna(0)\n",
    "    test=test.fillna(0)\n",
    "    \n",
    "    \n",
    "    train_X=train[['Pclass','Sex','Age','SibSp','Parch','Fare','Embarked']]\n",
    "    train_y=train['Survived'].values\n",
    "\n",
    "    test_X=test[['Pclass','Sex','Age','SibSp','Parch','Fare','Embarked']]\n",
    "    test_y=test['Survived'].values\n",
    "    \n",
    "    train_X=pd.get_dummies(train_X, columns = ['Sex','Embarked'])#문자 value를 encoding\n",
    "    test_X=pd.get_dummies(test_X, columns = ['Sex','Embarked'])\n",
    "    missing_cols = set(train_X.columns) - set(test_X.columns )\n",
    "    for c in missing_cols:\n",
    "        test_X[c] = 0\n",
    "    test_X = test_X[train_X.columns]\n",
    "    \n",
    "    train_X=train_X.values\n",
    "    test_X=test_X.values\n",
    "    \n",
    "    return train_X,train_y,test_X,test_y\n",
    "\n",
    "\n",
    "def accuracy(true_y,pred_y):\n",
    "    pred_y[pred_y<0.5]=0\n",
    "    pred_y[pred_y>=0.5]=1\n",
    "    accuracy=np.sum(true_y==pred_y)/len(true_y)*100\n",
    "    print('Test Accuracy: ', accuracy,\"%\" )\n",
    "    f = open('./result/test_Accuracy.txt', 'w')\n",
    "    f.write(str(accuracy))\n",
    "    f.close()\n",
    "\n",
    "    \n",
    "if __name__ == \"__main__\":\n",
    "\n",
    "    train_X, train_y, test_X, test_y = getData()\n",
    "        \n",
    "    # Fit\n",
    "    model = LogisticRegressor()\n",
    "    lr=0.00005\n",
    "    epoch_num=5000\n",
    "    print(np.shape(train_X)[1])\n",
    "   \n",
    "    \n",
    "    # Training (Learning)\n",
    "    model.fit(train_X, train_y,lr,epoch_num)\n",
    "\n",
    "    # Predicting\n",
    "    pred_y = model.predict(test_X)\n",
    "    #print(pred_y.shape)\n",
    "    # Evaluating\n",
    "    accuracy(test_y, pred_y)"
   ]
  },
  {
   "cell_type": "code",
   "execution_count": null,
   "metadata": {},
   "outputs": [],
   "source": []
  },
  {
   "cell_type": "code",
   "execution_count": null,
   "metadata": {},
   "outputs": [],
   "source": []
  }
 ],
 "metadata": {
  "kernelspec": {
   "display_name": "Python 3",
   "language": "python",
   "name": "python3"
  },
  "language_info": {
   "codemirror_mode": {
    "name": "ipython",
    "version": 3
   },
   "file_extension": ".py",
   "mimetype": "text/x-python",
   "name": "python",
   "nbconvert_exporter": "python",
   "pygments_lexer": "ipython3",
   "version": "3.7.4-final"
  }
 },
 "nbformat": 4,
 "nbformat_minor": 2
}